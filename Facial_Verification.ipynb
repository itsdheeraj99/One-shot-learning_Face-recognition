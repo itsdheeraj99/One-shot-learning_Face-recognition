{
 "cells": [
  {
   "cell_type": "markdown",
   "id": "f0e51aa5",
   "metadata": {},
   "source": [
    "# FaceID verification using One-shot learning method"
   ]
  },
  {
   "cell_type": "markdown",
   "id": "e65df629",
   "metadata": {},
   "source": [
    "## Importing Libraries"
   ]
  },
  {
   "cell_type": "code",
   "execution_count": 8,
   "id": "7e3d59ba",
   "metadata": {},
   "outputs": [],
   "source": [
    "#importing dependencies\n",
    "import cv2\n",
    "import os\n",
    "import random\n",
    "import numpy as np\n",
    "import pandas as pd\n",
    "import seaborn as sns\n",
    "import matplotlib.pyplot as plt\n",
    "\n",
    "#import tensorflow functional API\n",
    "import tensorflow as tf\n",
    "from tensorflow.keras.models import Model\n",
    "from tensorflow.keras.layers import Layer, Conv2D, Dense, MaxPooling2D, Input, Flatten\n",
    "from tensorflow.keras.losses import binary_crossentropy\n",
    "from tensorflow.keras.optimizers import Adam\n"
   ]
  },
  {
   "cell_type": "markdown",
   "id": "a531e6a4",
   "metadata": {},
   "source": [
    "## Loading and Preprocessing the data"
   ]
  },
  {
   "cell_type": "markdown",
   "id": "1856282f",
   "metadata": {},
   "source": [
    "### Creating folders and Setting up the paths"
   ]
  },
  {
   "cell_type": "code",
   "execution_count": 13,
   "id": "e410b343",
   "metadata": {},
   "outputs": [],
   "source": [
    "# Setup paths\n",
    "POS_PATH = os.path.join('data', 'positive')\n",
    "NEG_PATH = os.path.join('data', 'negative')\n",
    "ANC_PATH = os.path.join('data', 'anchor')\n",
    "\n",
    "#making directories\n",
    "\n",
    "os.makedirs(POS_PATH, exist_ok = True)\n",
    "os.makedirs(NEG_PATH, exist_ok = True)\n",
    "os.makedirs(ANC_PATH, exist_ok = True)"
   ]
  },
  {
   "cell_type": "markdown",
   "id": "0a3c2488",
   "metadata": {},
   "source": [
    "### Untaring the labelled images"
   ]
  },
  {
   "cell_type": "code",
   "execution_count": 14,
   "id": "dc0167f6",
   "metadata": {},
   "outputs": [],
   "source": [
    "# Run the following to decrypt the data file.\n",
    "#!tar -xf lfw.tgz"
   ]
  },
  {
   "cell_type": "code",
   "execution_count": 4,
   "id": "9017ba64",
   "metadata": {},
   "outputs": [],
   "source": [
    "# Moving the LFW Images to the repository data/negative\n",
    "for directory in os.listdir('lfw'):\n",
    "    # Check if 'directory' is a directory (not a file or other type)\n",
    "    if os.path.isdir(os.path.join('lfw', directory)):\n",
    "        for file in os.listdir(os.path.join('lfw', directory)):\n",
    "            # Check if the file starts with a dot (e.g., \".DS_Store\") and skip it\n",
    "            if file.startswith('.'):\n",
    "                continue\n",
    "\n",
    "            EX_PATH = os.path.join('lfw', directory, file)\n",
    "            NEW_PATH = os.path.join(NEG_PATH, file)\n",
    "            os.replace(EX_PATH, NEW_PATH)\n"
   ]
  },
  {
   "cell_type": "markdown",
   "id": "a462dfe6",
   "metadata": {},
   "source": [
    "### Collecting images"
   ]
  },
  {
   "cell_type": "code",
   "execution_count": 1,
   "id": "9184adb0",
   "metadata": {},
   "outputs": [],
   "source": [
    "#To generate unique image names importing uuid library\n",
    "import uuid"
   ]
  },
  {
   "cell_type": "code",
   "execution_count": 6,
   "id": "46287611",
   "metadata": {},
   "outputs": [],
   "source": [
    "cap = cv2.VideoCapture(1)\n",
    "while cap.isOpened():\n",
    "    res, frame = cap.read()\n",
    "    \n",
    "    # Cut down frame to 250x200px\n",
    "    frame = cv2.resize(frame,(250,200))\n",
    "    \n",
    "    # Collect anchors \n",
    "    if cv2.waitKey(1) & 0XFF == ord('a'):## To collect the anchor images press the key \"a\"\n",
    "        # Create the unique file path \n",
    "        imgname = os.path.join(ANC_PATH, '{}.jpg'.format(uuid.uuid1()))\n",
    "        cv2.imwrite(imgname, frame)\n",
    "    \n",
    "    # Collect positives\n",
    "    if cv2.waitKey(1) & 0XFF == ord('p'):## To collect the positive images press the key \"p\"\n",
    "        # Create the unique file path \n",
    "        imgname = os.path.join(POS_PATH, '{}.jpg'.format(uuid.uuid1()))\n",
    "        cv2.imwrite(imgname, frame)\n",
    "    \n",
    "    #show image\n",
    "    cv2.imshow('Image_Collection', frame)\n",
    "    \n",
    "    if cv2.waitKey(1) & 0XFF == ord('q'): ## To stop press \"q\"\n",
    "        break\n",
    "        \n",
    "cap.release()\n",
    "cv2.destroyAllWindows()"
   ]
  },
  {
   "cell_type": "markdown",
   "id": "af833118",
   "metadata": {},
   "source": [
    "### Data augmentation"
   ]
  },
  {
   "cell_type": "code",
   "execution_count": 8,
   "id": "494b8d3b",
   "metadata": {},
   "outputs": [],
   "source": [
    "# Augmentation function to augment the input images which provides more data to the model\n",
    "def data_aug(img):\n",
    "    data = []\n",
    "    for i in range(9):\n",
    "        img = tf.image.stateless_random_brightness(img, max_delta=0.02, seed=(1,2))\n",
    "        img = tf.image.stateless_random_contrast(img, lower=0.6,upper= 1, seed=(1,3))\n",
    "        img = tf.image.stateless_random_flip_left_right(img, seed = (np.random.randint(100),np.random.randint(100)))\n",
    "        img = tf.image.stateless_random_jpeg_quality(img, min_jpeg_quality=90,max_jpeg_quality=100, seed = (np.random.randint(100),np.random.randint(100)))\n",
    "        img = tf.image.stateless_random_saturation(img, lower=0.9, upper=1,seed = (np.random.randint(100),np.random.randint(100)))\n",
    "\n",
    "        data.append(img)\n",
    "    return data\n"
   ]
  },
  {
   "cell_type": "code",
   "execution_count": 9,
   "id": "59346048",
   "metadata": {},
   "outputs": [],
   "source": [
    "# Input images augmentation\n",
    "for file_name in os.listdir(os.path.join(ANC_PATH)):\n",
    "    img_path = os.path.join(ANC_PATH, file_name)\n",
    "    img = cv2.imread(img_path)\n",
    "    \n",
    "    if img is not None:\n",
    "        aug_imgs = data_aug(img)\n",
    "\n",
    "        for image in aug_imgs:\n",
    "            cv2.imwrite(os.path.join(ANC_PATH, '{}.jpg'.format(uuid.uuid1())), image.numpy())\n",
    "\n",
    "# True images augmentation\n",
    "for file_name in os.listdir(os.path.join(POS_PATH)):\n",
    "    img_path = os.path.join(POS_PATH, file_name)\n",
    "    img = cv2.imread(img_path)\n",
    "\n",
    "    if img is not None:\n",
    "        aug_imgs = data_aug(img)\n",
    "\n",
    "        for image in aug_imgs:\n",
    "            cv2.imwrite(os.path.join(POS_PATH, '{}.jpg'.format(uuid.uuid1())), image.numpy())"
   ]
  },
  {
   "cell_type": "markdown",
   "id": "84fb3da5",
   "metadata": {},
   "source": [
    "### Getting the directories"
   ]
  },
  {
   "cell_type": "code",
   "execution_count": 15,
   "id": "b6cf2594",
   "metadata": {},
   "outputs": [],
   "source": [
    "anchor_fileset = tf.data.Dataset.list_files(ANC_PATH+'/*.jpg').take(2000)\n",
    "positive_fileset= tf.data.Dataset.list_files(POS_PATH+'/*.jpg').take(2000)\n",
    "negative_fileset = tf.data.Dataset.list_files(NEG_PATH+'/*.jpg').take(2000)"
   ]
  },
  {
   "cell_type": "code",
   "execution_count": 21,
   "id": "d6f2e589",
   "metadata": {},
   "outputs": [],
   "source": [
    "#Preprocessing data\n",
    "def preprocess(file_path):\n",
    "    image = tf.io.read_file(file_path)\n",
    "    img = tf.io.decode_jpeg(image)\n",
    "    img = tf.image.resize(img, (100,100))\n",
    "    img = img/255\n",
    "    return img"
   ]
  },
  {
   "cell_type": "markdown",
   "id": "be0564c1",
   "metadata": {},
   "source": [
    "### Creating dataset"
   ]
  },
  {
   "cell_type": "code",
   "execution_count": 16,
   "id": "3559c360",
   "metadata": {},
   "outputs": [],
   "source": [
    "positives = tf.data.Dataset.zip((anchor_fileset, positive_fileset, tf.data.Dataset.from_tensor_slices(tf.ones(len(anchor_fileset)))))\n",
    "negatives = tf.data.Dataset.zip((anchor_fileset, negative_fileset, tf.data.Dataset.from_tensor_slices(tf.zeros(len(anchor_fileset)))))\n",
    "dataset = positives.concatenate(negatives)"
   ]
  },
  {
   "cell_type": "code",
   "execution_count": 18,
   "id": "cecb5a59",
   "metadata": {},
   "outputs": [],
   "source": [
    "def preprocess_data(input_img, validation_img, label):\n",
    "    return(preprocess(input_img), preprocess(validation_img), label)"
   ]
  },
  {
   "cell_type": "code",
   "execution_count": 22,
   "id": "4c017372",
   "metadata": {},
   "outputs": [],
   "source": [
    "# Build dataloader pipeline\n",
    "dataset = dataset.map(preprocess_data)\n",
    "dataset = dataset.cache()\n",
    "dataset = dataset.shuffle(buffer_size=8000)"
   ]
  },
  {
   "cell_type": "code",
   "execution_count": 23,
   "id": "4f5afda6",
   "metadata": {},
   "outputs": [],
   "source": [
    "# Training partition\n",
    "train_data = dataset.take(round(len(dataset)*.7))\n",
    "train_data = train_data.batch(16)\n",
    "train_data = train_data.prefetch(8)"
   ]
  },
  {
   "cell_type": "code",
   "execution_count": 24,
   "id": "f932d6c4",
   "metadata": {},
   "outputs": [],
   "source": [
    "# Testing partition\n",
    "test_data = dataset.skip(round(len(dataset)*.7))\n",
    "test_data = test_data.take(round(len(dataset)*.3))\n",
    "test_data = test_data.batch(16)\n",
    "test_data = test_data.prefetch(8)"
   ]
  },
  {
   "cell_type": "markdown",
   "id": "98f5fa7b",
   "metadata": {},
   "source": [
    "## Model Building"
   ]
  },
  {
   "cell_type": "markdown",
   "id": "a04e1e8f",
   "metadata": {},
   "source": [
    "### Custom model"
   ]
  },
  {
   "cell_type": "code",
   "execution_count": 6,
   "id": "81ddc6f3",
   "metadata": {},
   "outputs": [],
   "source": [
    "# Creating our custom model to customise the training step\n",
    "\n",
    "class CustomModel(Model):\n",
    "    def train_step(self,batch):\n",
    "        #unpacking the data\n",
    "        x = batch[:2] #x data\n",
    "        y = batch[2] #label\n",
    "        \n",
    "        with tf.GradientTape() as tape:\n",
    "            y_pred = self(x, training = True) #Forward Pass\n",
    "            #loss compilation\n",
    "            loss = self.compiled_loss(y, y_pred, regularization_losses=self.losses)\n",
    "        \n",
    "        # Compute gradients\n",
    "        trainable_vars = self.trainable_variables\n",
    "        gradients = tape.gradient(loss, trainable_vars)\n",
    "        # Update weights\n",
    "        self.optimizer.apply_gradients(zip(gradients, trainable_vars))\n",
    "        # Update metrics (includes the metric that tracks the loss)\n",
    "        self.compiled_metrics.update_state(y, y_pred)\n",
    "        # Return a dict mapping metric names to current value\n",
    "        return {m.name: m.result() for m in self.metrics}\n",
    "\n",
    "        \n",
    "        "
   ]
  },
  {
   "cell_type": "markdown",
   "id": "2b0d4d07",
   "metadata": {},
   "source": [
    "### Embedding layer"
   ]
  },
  {
   "attachments": {
    "Network.png": {
     "image/png": "[encoded data removed]"
    }
   },
   "cell_type": "markdown",
   "id": "5a4278e3",
   "metadata": {},
   "source": [
    "![Network.png](attachment:Network.png)"
   ]
  },
  {
   "cell_type": "markdown",
   "id": "2b4f6c84",
   "metadata": {},
   "source": [
    "The following architecture is implemented based on the paper \"siamese neural networks for one-shot image recognition\" proposed on One-shot learning in 2015.  "
   ]
  },
  {
   "cell_type": "code",
   "execution_count": 7,
   "id": "251af0ac",
   "metadata": {},
   "outputs": [],
   "source": [
    "#function to build embedding layer\n",
    "\n",
    "def build_embedding():\n",
    "    feed = Input(name = 'input_image', shape = (100,100,3))\n",
    "    \n",
    "    #first part\n",
    "    c1 = Conv2D(64,(10,10), activation = 'relu')(feed)\n",
    "    m1 = MaxPooling2D(64,(2,2), padding='same')(c1)\n",
    "    \n",
    "    #second part\n",
    "    c2 = Conv2D(128,(7,7), activation = 'relu')(m1)\n",
    "    m2 = MaxPooling2D(64,(2,2), padding='same')(c2)\n",
    "    \n",
    "    #third part\n",
    "    c3 = Conv2D(128,(4,4), activation = 'relu')(m2)\n",
    "    m3 = MaxPooling2D(64, (2,2), padding = 'same')(c3)\n",
    "    \n",
    "    #Fourth part\n",
    "    c4 = Conv2D(256,(4,4), activation = 'relu')(m3)\n",
    "    f1 = Flatten()(c4)\n",
    "    d1 = Dense(4096, activation = 'sigmoid')(f1)\n",
    "    \n",
    "    return CustomModel(inputs = [feed], outputs = [d1], name = 'embedding')"
   ]
  },
  {
   "cell_type": "markdown",
   "id": "5b7d320a",
   "metadata": {},
   "source": [
    "### Distance Layer"
   ]
  },
  {
   "cell_type": "code",
   "execution_count": 21,
   "id": "0ea566f7",
   "metadata": {},
   "outputs": [],
   "source": [
    "#Distance layer to calculate the distance between the input image and the validation(anchor) image.\n",
    "# Siamese L1 Distance class\n",
    "class DistanceLayer(Layer):\n",
    "    \n",
    "    # Init method - inheritance\n",
    "    def __init__(self, **kwargs):\n",
    "        super().__init__()\n",
    "       \n",
    "    # Magic happens here - similarity calculation\n",
    "    def call(self, input_embedding, validation_embedding):\n",
    "        return tf.math.abs(input_embedding - validation_embedding)"
   ]
  },
  {
   "cell_type": "markdown",
   "id": "4b19fa7b",
   "metadata": {},
   "source": [
    "### Siamese model\n",
    "Building a Siamese network architecture to validate the input image against the anchor image."
   ]
  },
  {
   "cell_type": "code",
   "execution_count": 22,
   "id": "ecbd16f6",
   "metadata": {},
   "outputs": [],
   "source": [
    "\n",
    "def build_siamese_model(): \n",
    "    \n",
    "    # Anchor image input in the network\n",
    "    input_image = Input(name='input_img', shape=(100,100,3))\n",
    "    \n",
    "    # Validation image in the network \n",
    "    validation_image = Input(name='validation_img', shape=(100,100,3))\n",
    "    \n",
    "    embedding = build_embedding()\n",
    "    # Combine siamese distance components\n",
    "    siamese_layer = DistanceLayer()\n",
    "    siamese_layer._name = 'distance'\n",
    "    distances = siamese_layer(embedding(input_image), embedding(validation_image))\n",
    "    \n",
    "    # Classification layer \n",
    "    classifier = Dense(1, activation='sigmoid')(distances)\n",
    "    \n",
    "    return CustomModel(inputs=[input_image, validation_image], outputs=classifier, name='SiameseNetwork')"
   ]
  },
  {
   "cell_type": "code",
   "execution_count": 23,
   "id": "74136b3d",
   "metadata": {},
   "outputs": [],
   "source": [
    "siamese_model = build_siamese_model()"
   ]
  },
  {
   "cell_type": "code",
   "execution_count": null,
   "id": "280bd4e5",
   "metadata": {},
   "outputs": [],
   "source": []
  },
  {
   "cell_type": "markdown",
   "id": "43f957c8",
   "metadata": {},
   "source": [
    "### Training the model"
   ]
  },
  {
   "cell_type": "code",
   "execution_count": 26,
   "id": "b355617b",
   "metadata": {},
   "outputs": [
    {
     "name": "stderr",
     "output_type": "stream",
     "text": [
      "WARNING:absl:At this time, the v2.11+ optimizer `tf.keras.optimizers.Adam` runs slowly on M1/M2 Macs, please use the legacy Keras optimizer instead, located at `tf.keras.optimizers.legacy.Adam`.\n",
      "WARNING:absl:There is a known slowdown when using v2.11+ Keras optimizers on M1/M2 Macs. Falling back to the legacy Keras optimizer, i.e., `tf.keras.optimizers.legacy.Adam`.\n"
     ]
    }
   ],
   "source": [
    "binary_loss = binary_crossentropy #loss function\n",
    "opt = Adam(1e-4) #Adam optimizer and setting the learning rate to 0.0001\n",
    "\n",
    "#compiling the model\n",
    "siamese_model.compile(loss = binary_loss, optimizer = opt, metrics = ['accuracy'])"
   ]
  },
  {
   "cell_type": "code",
   "execution_count": 28,
   "id": "71d03cf3",
   "metadata": {},
   "outputs": [
    {
     "name": "stdout",
     "output_type": "stream",
     "text": [
      "Epoch 1/100\n",
      "17/17 [==============================] - 64s 4s/step - loss: 0.1562 - accuracy: 0.9361\n",
      "Epoch 2/100\n",
      "17/17 [==============================] - 70s 4s/step - loss: 0.1170 - accuracy: 0.9511\n",
      "Epoch 3/100\n",
      "17/17 [==============================] - 68s 4s/step - loss: 0.1309 - accuracy: 0.9737\n",
      "Epoch 4/100\n",
      "17/17 [==============================] - 65s 4s/step - loss: 0.0682 - accuracy: 0.9850\n",
      "Epoch 5/100\n",
      "17/17 [==============================] - 68s 4s/step - loss: 0.0321 - accuracy: 0.9962\n",
      "Epoch 6/100\n",
      "17/17 [==============================] - 72s 4s/step - loss: 0.0233 - accuracy: 0.9962\n",
      "Epoch 7/100\n",
      "17/17 [==============================] - 81s 5s/step - loss: 0.0263 - accuracy: 0.9887\n",
      "Epoch 8/100\n",
      "17/17 [==============================] - 71s 4s/step - loss: 0.1492 - accuracy: 0.9624\n",
      "Epoch 9/100\n",
      "17/17 [==============================] - 68s 4s/step - loss: 0.0431 - accuracy: 0.9850\n",
      "Epoch 10/100\n",
      "17/17 [==============================] - 66s 4s/step - loss: 0.0082 - accuracy: 1.0000\n",
      "Epoch 11/100\n",
      "17/17 [==============================] - 67s 4s/step - loss: 0.0039 - accuracy: 1.0000\n",
      "Epoch 12/100\n",
      "17/17 [==============================] - 66s 4s/step - loss: 0.0077 - accuracy: 1.0000\n",
      "Epoch 13/100\n",
      "17/17 [==============================] - 65s 4s/step - loss: 0.0042 - accuracy: 1.0000\n",
      "Epoch 14/100\n",
      "17/17 [==============================] - 67s 4s/step - loss: 0.0025 - accuracy: 1.0000\n",
      "Epoch 15/100\n",
      "17/17 [==============================] - 67s 4s/step - loss: 7.4786e-04 - accuracy: 1.0000\n",
      "Epoch 16/100\n",
      "17/17 [==============================] - 68s 4s/step - loss: 4.3688e-04 - accuracy: 1.0000\n",
      "Epoch 17/100\n",
      "17/17 [==============================] - 69s 4s/step - loss: 7.0527e-04 - accuracy: 1.0000\n",
      "Epoch 18/100\n",
      "17/17 [==============================] - 72s 4s/step - loss: 4.8033e-04 - accuracy: 1.0000\n",
      "Epoch 19/100\n",
      "17/17 [==============================] - 69s 4s/step - loss: 3.4942e-04 - accuracy: 1.0000\n",
      "Epoch 20/100\n",
      "17/17 [==============================] - 73s 4s/step - loss: 1.9741e-04 - accuracy: 1.0000\n",
      "Epoch 21/100\n",
      "17/17 [==============================] - 71s 4s/step - loss: 1.4160e-04 - accuracy: 1.0000\n",
      "Epoch 22/100\n",
      "17/17 [==============================] - 67s 4s/step - loss: 1.4114e-04 - accuracy: 1.0000\n",
      "Epoch 23/100\n",
      "17/17 [==============================] - 68s 4s/step - loss: 1.0125e-04 - accuracy: 1.0000\n",
      "Epoch 24/100\n",
      "17/17 [==============================] - 69s 4s/step - loss: 1.2705e-04 - accuracy: 1.0000\n",
      "Epoch 25/100\n",
      "17/17 [==============================] - 67s 4s/step - loss: 9.3016e-05 - accuracy: 1.0000\n",
      "Epoch 26/100\n",
      "17/17 [==============================] - 69s 4s/step - loss: 6.6097e-05 - accuracy: 1.0000\n",
      "Epoch 27/100\n",
      "17/17 [==============================] - 70s 4s/step - loss: 7.5522e-05 - accuracy: 1.0000\n",
      "Epoch 28/100\n",
      "17/17 [==============================] - 68s 4s/step - loss: 8.0235e-05 - accuracy: 1.0000\n",
      "Epoch 29/100\n",
      "17/17 [==============================] - 68s 4s/step - loss: 8.4791e-05 - accuracy: 1.0000\n",
      "Epoch 30/100\n",
      "17/17 [==============================] - 67s 4s/step - loss: 6.6660e-05 - accuracy: 1.0000\n",
      "Epoch 31/100\n",
      "17/17 [==============================] - 66s 4s/step - loss: 5.3106e-05 - accuracy: 1.0000\n",
      "Epoch 32/100\n",
      "17/17 [==============================] - 78s 5s/step - loss: 5.9973e-05 - accuracy: 1.0000\n",
      "Epoch 33/100\n",
      "17/17 [==============================] - 61s 4s/step - loss: 5.5056e-05 - accuracy: 1.0000\n",
      "Epoch 34/100\n",
      "17/17 [==============================] - 63s 4s/step - loss: 5.4053e-05 - accuracy: 1.0000\n",
      "Epoch 35/100\n",
      "17/17 [==============================] - 64s 4s/step - loss: 3.7757e-05 - accuracy: 1.0000\n",
      "Epoch 36/100\n",
      "17/17 [==============================] - 66s 4s/step - loss: 3.1411e-05 - accuracy: 1.0000\n",
      "Epoch 37/100\n",
      "17/17 [==============================] - 64s 4s/step - loss: 2.8856e-05 - accuracy: 1.0000\n",
      "Epoch 38/100\n",
      "17/17 [==============================] - 64s 4s/step - loss: 5.0400e-05 - accuracy: 1.0000\n",
      "Epoch 39/100\n",
      "17/17 [==============================] - 64s 4s/step - loss: 3.1933e-05 - accuracy: 1.0000\n",
      "Epoch 40/100\n",
      "17/17 [==============================] - 64s 4s/step - loss: 3.2398e-05 - accuracy: 1.0000\n",
      "Epoch 41/100\n",
      "17/17 [==============================] - 63s 4s/step - loss: 3.5184e-05 - accuracy: 1.0000\n",
      "Epoch 42/100\n",
      "17/17 [==============================] - 63s 4s/step - loss: 2.2608e-05 - accuracy: 1.0000\n",
      "Epoch 43/100\n",
      "17/17 [==============================] - 64s 4s/step - loss: 2.8611e-05 - accuracy: 1.0000\n",
      "Epoch 44/100\n",
      "17/17 [==============================] - 64s 4s/step - loss: 2.3566e-05 - accuracy: 1.0000\n",
      "Epoch 45/100\n",
      "17/17 [==============================] - 63s 4s/step - loss: 3.3235e-05 - accuracy: 1.0000\n",
      "Epoch 46/100\n",
      "17/17 [==============================] - 65s 4s/step - loss: 2.8127e-05 - accuracy: 1.0000\n",
      "Epoch 47/100\n",
      "17/17 [==============================] - 64s 4s/step - loss: 3.3962e-05 - accuracy: 1.0000\n",
      "Epoch 48/100\n",
      "17/17 [==============================] - 64s 4s/step - loss: 2.9947e-05 - accuracy: 1.0000\n",
      "Epoch 49/100\n",
      "17/17 [==============================] - 63s 4s/step - loss: 2.6164e-05 - accuracy: 1.0000\n",
      "Epoch 50/100\n",
      "17/17 [==============================] - 63s 4s/step - loss: 2.4765e-05 - accuracy: 1.0000\n",
      "Epoch 51/100\n",
      "17/17 [==============================] - 63s 4s/step - loss: 2.4164e-05 - accuracy: 1.0000\n",
      "Epoch 52/100\n",
      "17/17 [==============================] - 63s 4s/step - loss: 1.9923e-05 - accuracy: 1.0000\n",
      "Epoch 53/100\n",
      "17/17 [==============================] - 63s 4s/step - loss: 2.4776e-05 - accuracy: 1.0000\n",
      "Epoch 54/100\n",
      "17/17 [==============================] - 63s 4s/step - loss: 2.0296e-05 - accuracy: 1.0000\n",
      "Epoch 55/100\n",
      "17/17 [==============================] - 63s 4s/step - loss: 1.8640e-05 - accuracy: 1.0000\n",
      "Epoch 56/100\n",
      "17/17 [==============================] - 63s 4s/step - loss: 1.7632e-05 - accuracy: 1.0000\n",
      "Epoch 57/100\n",
      "17/17 [==============================] - 63s 4s/step - loss: 1.4208e-05 - accuracy: 1.0000\n",
      "Epoch 58/100\n",
      "17/17 [==============================] - 63s 4s/step - loss: 1.2748e-05 - accuracy: 1.0000\n",
      "Epoch 59/100\n",
      "17/17 [==============================] - 63s 4s/step - loss: 1.4474e-05 - accuracy: 1.0000\n",
      "Epoch 60/100\n",
      "17/17 [==============================] - 63s 4s/step - loss: 1.3916e-05 - accuracy: 1.0000\n",
      "Epoch 61/100\n",
      "17/17 [==============================] - 63s 4s/step - loss: 1.8454e-05 - accuracy: 1.0000\n",
      "Epoch 62/100\n",
      "17/17 [==============================] - 68s 4s/step - loss: 1.3359e-05 - accuracy: 1.0000\n",
      "Epoch 63/100\n",
      "17/17 [==============================] - 66s 4s/step - loss: 1.5761e-05 - accuracy: 1.0000\n",
      "Epoch 64/100\n",
      "17/17 [==============================] - 64s 4s/step - loss: 1.1228e-05 - accuracy: 1.0000\n",
      "Epoch 65/100\n",
      "17/17 [==============================] - 64s 4s/step - loss: 1.3150e-05 - accuracy: 1.0000\n",
      "Epoch 66/100\n",
      "17/17 [==============================] - 64s 4s/step - loss: 1.0335e-05 - accuracy: 1.0000\n",
      "Epoch 67/100\n",
      "17/17 [==============================] - 64s 4s/step - loss: 1.4582e-05 - accuracy: 1.0000\n",
      "Epoch 68/100\n",
      "17/17 [==============================] - 64s 4s/step - loss: 1.2465e-05 - accuracy: 1.0000\n",
      "Epoch 69/100\n",
      "17/17 [==============================] - 64s 4s/step - loss: 8.5207e-06 - accuracy: 1.0000\n",
      "Epoch 70/100\n",
      "17/17 [==============================] - 64s 4s/step - loss: 8.7010e-06 - accuracy: 1.0000\n",
      "Epoch 71/100\n",
      "17/17 [==============================] - 64s 4s/step - loss: 9.5836e-06 - accuracy: 1.0000\n",
      "Epoch 72/100\n",
      "17/17 [==============================] - 64s 4s/step - loss: 1.3523e-05 - accuracy: 1.0000\n",
      "Epoch 73/100\n",
      "17/17 [==============================] - 64s 4s/step - loss: 1.0030e-05 - accuracy: 1.0000\n",
      "Epoch 74/100\n",
      "17/17 [==============================] - 64s 4s/step - loss: 9.3022e-06 - accuracy: 1.0000\n",
      "Epoch 75/100\n",
      "17/17 [==============================] - 64s 4s/step - loss: 6.3196e-06 - accuracy: 1.0000\n",
      "Epoch 76/100\n",
      "17/17 [==============================] - 65s 4s/step - loss: 1.0367e-05 - accuracy: 1.0000\n",
      "Epoch 77/100\n",
      "17/17 [==============================] - 64s 4s/step - loss: 9.3568e-06 - accuracy: 1.0000\n",
      "Epoch 78/100\n",
      "17/17 [==============================] - 65s 4s/step - loss: 6.5036e-06 - accuracy: 1.0000\n",
      "Epoch 79/100\n",
      "17/17 [==============================] - 65s 4s/step - loss: 1.1099e-05 - accuracy: 1.0000\n",
      "Epoch 80/100\n",
      "17/17 [==============================] - 63s 4s/step - loss: 7.7555e-06 - accuracy: 1.0000\n",
      "Epoch 81/100\n",
      "17/17 [==============================] - 64s 4s/step - loss: 1.0199e-05 - accuracy: 1.0000\n",
      "Epoch 82/100\n",
      "17/17 [==============================] - 66s 4s/step - loss: 6.2163e-06 - accuracy: 1.0000\n",
      "Epoch 83/100\n",
      "17/17 [==============================] - 65s 4s/step - loss: 5.9084e-06 - accuracy: 1.0000\n",
      "Epoch 84/100\n",
      "17/17 [==============================] - 64s 4s/step - loss: 7.1208e-06 - accuracy: 1.0000\n",
      "Epoch 85/100\n",
      "17/17 [==============================] - 64s 4s/step - loss: 6.8277e-06 - accuracy: 1.0000\n",
      "Epoch 86/100\n",
      "17/17 [==============================] - 64s 4s/step - loss: 7.1711e-06 - accuracy: 1.0000\n",
      "Epoch 87/100\n",
      "17/17 [==============================] - 64s 4s/step - loss: 5.4023e-06 - accuracy: 1.0000\n",
      "Epoch 88/100\n",
      "17/17 [==============================] - 64s 4s/step - loss: 6.5630e-06 - accuracy: 1.0000\n",
      "Epoch 89/100\n",
      "17/17 [==============================] - 64s 4s/step - loss: 6.5696e-06 - accuracy: 1.0000\n",
      "Epoch 90/100\n",
      "17/17 [==============================] - 64s 4s/step - loss: 8.2313e-06 - accuracy: 1.0000\n",
      "Epoch 91/100\n",
      "17/17 [==============================] - 64s 4s/step - loss: 7.0669e-06 - accuracy: 1.0000\n",
      "Epoch 92/100\n",
      "17/17 [==============================] - 65s 4s/step - loss: 6.5299e-06 - accuracy: 1.0000\n",
      "Epoch 93/100\n",
      "17/17 [==============================] - 64s 4s/step - loss: 5.2656e-06 - accuracy: 1.0000\n",
      "Epoch 94/100\n",
      "17/17 [==============================] - 64s 4s/step - loss: 7.3111e-06 - accuracy: 1.0000\n",
      "Epoch 95/100\n",
      "17/17 [==============================] - 64s 4s/step - loss: 7.6079e-06 - accuracy: 1.0000\n",
      "Epoch 96/100\n",
      "17/17 [==============================] - 64s 4s/step - loss: 4.1856e-06 - accuracy: 1.0000\n",
      "Epoch 97/100\n",
      "17/17 [==============================] - 64s 4s/step - loss: 4.9748e-06 - accuracy: 1.0000\n",
      "Epoch 98/100\n",
      "17/17 [==============================] - 64s 4s/step - loss: 4.9362e-06 - accuracy: 1.0000\n",
      "Epoch 99/100\n",
      "17/17 [==============================] - 63s 4s/step - loss: 7.1314e-06 - accuracy: 1.0000\n",
      "Epoch 100/100\n",
      "17/17 [==============================] - 63s 4s/step - loss: 5.5416e-06 - accuracy: 1.0000\n"
     ]
    }
   ],
   "source": [
    "#training the model against the dataset that was created earlier\n",
    "history = siamese_model.fit(train_data, epochs = 100) "
   ]
  },
  {
   "cell_type": "markdown",
   "id": "b9e0f38b",
   "metadata": {},
   "source": [
    "### Saving the model"
   ]
  },
  {
   "cell_type": "code",
   "execution_count": 26,
   "id": "4e88afd1",
   "metadata": {},
   "outputs": [],
   "source": [
    "siamese_model.save('Final_FACEID_model')"
   ]
  },
  {
   "cell_type": "markdown",
   "id": "a327e236",
   "metadata": {},
   "source": [
    "### Loading the model"
   ]
  },
  {
   "cell_type": "code",
   "execution_count": 27,
   "id": "cee4ac04",
   "metadata": {},
   "outputs": [],
   "source": [
    "FaceID_model = tf.keras.models.load_model('Final_FACEID_model') #loading the saved model"
   ]
  },
  {
   "cell_type": "code",
   "execution_count": 11,
   "id": "0d5f9d14",
   "metadata": {
    "scrolled": true
   },
   "outputs": [
    {
     "name": "stdout",
     "output_type": "stream",
     "text": [
      "Model: \"SiameseNetwork\"\n",
      "__________________________________________________________________________________________________\n",
      " Layer (type)                Output Shape                 Param #   Connected to                  \n",
      "==================================================================================================\n",
      " input_img (InputLayer)      [(None, 100, 100, 3)]        0         []                            \n",
      "                                                                                                  \n",
      " validation_img (InputLayer  [(None, 100, 100, 3)]        0         []                            \n",
      " )                                                                                                \n",
      "                                                                                                  \n",
      " embedding (Functional)      (None, 4096)                 3896044   ['input_img[0][0]',           \n",
      "                                                          8          'validation_img[0][0]']      \n",
      "                                                                                                  \n",
      " distance (DistanceLayer)    (None, 4096)                 0         ['embedding[0][0]',           \n",
      "                                                                     'embedding[1][0]']           \n",
      "                                                                                                  \n",
      " dense_1 (Dense)             (None, 1)                    4097      ['distance[0][0]']            \n",
      "                                                                                                  \n",
      "==================================================================================================\n",
      "Total params: 38964545 (148.64 MB)\n",
      "Trainable params: 38964545 (148.64 MB)\n",
      "Non-trainable params: 0 (0.00 Byte)\n",
      "__________________________________________________________________________________________________\n"
     ]
    }
   ],
   "source": [
    "FaceID_model.summary()"
   ]
  },
  {
   "cell_type": "markdown",
   "id": "29211e99",
   "metadata": {},
   "source": [
    "### Making predictions"
   ]
  },
  {
   "cell_type": "code",
   "execution_count": 28,
   "id": "d33c3b5a",
   "metadata": {},
   "outputs": [],
   "source": [
    "#Getting a batch of test data\n",
    "test_input, test_val, y_true = test_data.as_numpy_iterator().next()"
   ]
  },
  {
   "cell_type": "code",
   "execution_count": 29,
   "id": "6c979997",
   "metadata": {},
   "outputs": [
    {
     "name": "stdout",
     "output_type": "stream",
     "text": [
      "1/1 [==============================] - 1s 1s/step\n"
     ]
    },
    {
     "data": {
      "text/plain": [
       "array([[2.4199609e-14],\n",
       "       [1.0000000e+00],\n",
       "       [2.4738477e-12],\n",
       "       [3.2380480e-11],\n",
       "       [1.0000000e+00],\n",
       "       [2.5705593e-09],\n",
       "       [2.8948835e-14],\n",
       "       [1.0000000e+00],\n",
       "       [1.0000000e+00],\n",
       "       [1.3288196e-10],\n",
       "       [1.0000000e+00],\n",
       "       [1.0000000e+00],\n",
       "       [1.0000000e+00],\n",
       "       [9.6348866e-11],\n",
       "       [1.8798930e-06],\n",
       "       [1.0000000e+00]], dtype=float32)"
      ]
     },
     "execution_count": 29,
     "metadata": {},
     "output_type": "execute_result"
    }
   ],
   "source": [
    "\n",
    "y_hat = FaceID_model.predict([test_input, test_val])\n",
    "y_hat"
   ]
  },
  {
   "cell_type": "code",
   "execution_count": 30,
   "id": "1dd11418",
   "metadata": {},
   "outputs": [
    {
     "data": {
      "text/plain": [
       "[0, 1, 0, 0, 1, 0, 0, 1, 1, 0, 1, 1, 1, 0, 0, 1]"
      ]
     },
     "execution_count": 30,
     "metadata": {},
     "output_type": "execute_result"
    }
   ],
   "source": [
    "# Post processing the results \n",
    "y_pred = [1 if prediction > 0.5 else 0 for prediction in y_hat ]\n",
    "y_pred"
   ]
  },
  {
   "cell_type": "code",
   "execution_count": 31,
   "id": "09132e65",
   "metadata": {},
   "outputs": [
    {
     "data": {
      "text/plain": [
       "array([0., 1., 0., 0., 1., 0., 0., 1., 1., 0., 1., 1., 1., 0., 0., 1.],\n",
       "      dtype=float32)"
      ]
     },
     "execution_count": 31,
     "metadata": {},
     "output_type": "execute_result"
    }
   ],
   "source": [
    "y_true"
   ]
  },
  {
   "cell_type": "markdown",
   "id": "75d396c7",
   "metadata": {},
   "source": [
    "It is observed that the model makes the predictions with high accuracy. Let's further evaluate with different metrics."
   ]
  },
  {
   "cell_type": "markdown",
   "id": "8d237d13",
   "metadata": {},
   "source": [
    "### Calculating metrics"
   ]
  },
  {
   "cell_type": "code",
   "execution_count": 33,
   "id": "01278f6c",
   "metadata": {},
   "outputs": [
    {
     "name": "stdout",
     "output_type": "stream",
     "text": [
      "              precision    recall  f1-score   support\n",
      "\n",
      "         0.0       1.00      1.00      1.00         8\n",
      "         1.0       1.00      1.00      1.00         8\n",
      "\n",
      "    accuracy                           1.00        16\n",
      "   macro avg       1.00      1.00      1.00        16\n",
      "weighted avg       1.00      1.00      1.00        16\n",
      "\n"
     ]
    }
   ],
   "source": [
    "from sklearn.metrics import classification_report\n",
    "\n",
    "print(classification_report(y_true, y_pred))"
   ]
  },
  {
   "cell_type": "code",
   "execution_count": null,
   "id": "0fe59f00",
   "metadata": {},
   "outputs": [],
   "source": []
  },
  {
   "cell_type": "markdown",
   "id": "bb68c847",
   "metadata": {},
   "source": [
    "To test it in real-time create folder called \"Application data\".\n",
    "Further within this create two more folders \"input_images\" and \"verification_images\"."
   ]
  },
  {
   "cell_type": "markdown",
   "id": "a2fa1a62",
   "metadata": {},
   "source": [
    "### Testing in Real-time"
   ]
  },
  {
   "cell_type": "markdown",
   "id": "b3a99fd9",
   "metadata": {},
   "source": [
    "### Verification funciton"
   ]
  },
  {
   "cell_type": "code",
   "execution_count": 34,
   "id": "2f3858d7",
   "metadata": {},
   "outputs": [],
   "source": [
    "def verify_image(model, detection_threshold, verification_threshold):\n",
    "    # Build results array\n",
    "    results = []\n",
    "    for image in os.listdir(os.path.join('application_data', 'verification_images')):\n",
    "        input_img = preprocess(os.path.join('application_data', 'input_images', 'input_image.jpg'))\n",
    "        validation_img = preprocess(os.path.join('application_data', 'verification_images', image))\n",
    "        \n",
    "        # Make Predictions \n",
    "        result = model.predict(list(np.expand_dims([input_img, validation_img], axis=1)))\n",
    "        results.append(result)\n",
    "    \n",
    "    # Detection Threshold: Metric above which a prediciton is considered positive \n",
    "    detection = np.sum(np.array(results) > detection_threshold)\n",
    "    \n",
    "    # Verification Threshold: Proportion of positive predictions / total positive samples \n",
    "    verification = detection / len(os.listdir(os.path.join('application_data', 'verification_images'))) \n",
    "    verified = verification > verification_threshold \n",
    "    print(verification)\n",
    "    \n",
    "    return results, verified"
   ]
  },
  {
   "cell_type": "code",
   "execution_count": 38,
   "id": "c16160d1",
   "metadata": {},
   "outputs": [
    {
     "data": {
      "text/plain": [
       "\"\\n\\ncap = cv2.VideoCapture(1)\\nwhile cap.isOpened():\\n    ret, frame = cap.read()\\n    frame = frame = cv2.resize(frame,(250,200))\\n    \\n    cv2.imshow('Verification', frame)\\n    \\n    # Verification trigger\\n    if cv2.waitKey(10) & 0xFF == ord('v'):\\n        # Save input image to application_data/input_image folder \\n        cv2.imwrite(os.path.join('application_data', 'input_images', 'input_image.jpg'), frame)\\n        \\n    \\n    if cv2.waitKey(10) & 0xFF == ord('q'):\\n        break\\ncap.release()\\ncv2.destroyAllWindows()\\n\\n\""
      ]
     },
     "execution_count": 38,
     "metadata": {},
     "output_type": "execute_result"
    }
   ],
   "source": [
    "\n",
    "cap = cv2.VideoCapture(1)\n",
    "while cap.isOpened():\n",
    "    ret, frame = cap.read()\n",
    "    frame = frame = cv2.resize(frame,(250,200))\n",
    "    \n",
    "    cv2.imshow('Verification', frame)\n",
    "    \n",
    "    # Verification trigger\n",
    "    if cv2.waitKey(10) & 0xFF == ord('v'):\n",
    "        # Save input image to application_data/input_image folder \n",
    "        cv2.imwrite(os.path.join('application_data', 'input_images', 'input_image.jpg'), frame)\n",
    "        # Run verification\n",
    "        results, verified = verify_image(FaceID_model, 0.5, 0.5)\n",
    "        print(verified)\n",
    "    \n",
    "    if cv2.waitKey(10) & 0xFF == ord('q'):\n",
    "        break\n",
    "cap.release()\n",
    "cv2.destroyAllWindows()\n",
    "'''\n",
    "\n",
    "cap = cv2.VideoCapture(1)\n",
    "while cap.isOpened():\n",
    "    ret, frame = cap.read()\n",
    "    frame = frame = cv2.resize(frame,(250,200))\n",
    "    \n",
    "    cv2.imshow('Verification', frame)\n",
    "    \n",
    "    # Verification trigger\n",
    "    if cv2.waitKey(10) & 0xFF == ord('v'):\n",
    "        # Save input image to application_data/input_image folder \n",
    "        cv2.imwrite(os.path.join('application_data', 'input_images', 'input_image.jpg'), frame)\n",
    "        \n",
    "    \n",
    "    if cv2.waitKey(10) & 0xFF == ord('q'):\n",
    "        break\n",
    "cap.release()\n",
    "cv2.destroyAllWindows()\n",
    "\n",
    "'''"
   ]
  },
  {
   "cell_type": "code",
   "execution_count": 36,
   "id": "d4e42597",
   "metadata": {},
   "outputs": [
    {
     "name": "stdout",
     "output_type": "stream",
     "text": [
      "1/1 [==============================] - 0s 318ms/step\n",
      "1/1 [==============================] - 0s 216ms/step\n",
      "1/1 [==============================] - 0s 213ms/step\n",
      "1/1 [==============================] - 0s 211ms/step\n",
      "1/1 [==============================] - 0s 207ms/step\n",
      "1/1 [==============================] - 0s 211ms/step\n",
      "1/1 [==============================] - 0s 212ms/step\n",
      "1/1 [==============================] - 0s 210ms/step\n",
      "1/1 [==============================] - 0s 206ms/step\n",
      "1/1 [==============================] - 0s 212ms/step\n",
      "1/1 [==============================] - 0s 211ms/step\n",
      "1/1 [==============================] - 0s 212ms/step\n",
      "1/1 [==============================] - 0s 233ms/step\n",
      "1/1 [==============================] - 0s 211ms/step\n",
      "1/1 [==============================] - 0s 213ms/step\n",
      "1/1 [==============================] - 0s 209ms/step\n",
      "1/1 [==============================] - 0s 207ms/step\n",
      "1/1 [==============================] - 0s 210ms/step\n",
      "1/1 [==============================] - 0s 213ms/step\n",
      "1/1 [==============================] - 0s 214ms/step\n",
      "1/1 [==============================] - 0s 212ms/step\n",
      "1/1 [==============================] - 0s 208ms/step\n",
      "1/1 [==============================] - 0s 210ms/step\n",
      "1/1 [==============================] - 0s 213ms/step\n",
      "1/1 [==============================] - 0s 208ms/step\n",
      "1/1 [==============================] - 0s 207ms/step\n",
      "1.0\n",
      "True\n"
     ]
    }
   ],
   "source": [
    "results, verified = verify_image(FaceID_model, 0.5, 0.5)\n",
    "print(verified)"
   ]
  },
  {
   "cell_type": "code",
   "execution_count": null,
   "id": "cfa19518",
   "metadata": {},
   "outputs": [],
   "source": []
  },
  {
   "cell_type": "code",
   "execution_count": null,
   "id": "1ea3b7c8",
   "metadata": {},
   "outputs": [],
   "source": []
  },
  {
   "cell_type": "code",
   "execution_count": null,
   "id": "5a9bf556",
   "metadata": {},
   "outputs": [],
   "source": []
  }
 ],
 "metadata": {
  "kernelspec": {
   "display_name": "Python 3 (ipykernel)",
   "language": "python",
   "name": "python3"
  },
  "language_info": {
   "codemirror_mode": {
    "name": "ipython",
    "version": 3
   },
   "file_extension": ".py",
   "mimetype": "text/x-python",
   "name": "python",
   "nbconvert_exporter": "python",
   "pygments_lexer": "ipython3",
   "version": "3.11.0"
  }
 },
 "nbformat": 4,
 "nbformat_minor": 5
}
